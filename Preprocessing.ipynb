{
    "cells": [
        {
            "cell_type": "markdown",
            "source": [
                "# Preprocessing\r\n",
                "\r\n",
                "Use NLTK package to perform a preprocessing pipline for Twitter datasets."
            ],
            "metadata": {}
        },
        {
            "cell_type": "markdown",
            "source": [
                "# Setup"
            ],
            "metadata": {}
        },
        {
            "cell_type": "code",
            "execution_count": 3,
            "source": [
                "import nltk\r\n",
                "from nltk.corpus import twitter_samples\r\n",
                "import matplotlib.pyplot as plt\r\n",
                "import random"
            ],
            "outputs": [],
            "metadata": {}
        },
        {
            "cell_type": "markdown",
            "source": [
                "# Download Twitter dataset"
            ],
            "metadata": {}
        },
        {
            "cell_type": "code",
            "execution_count": 4,
            "source": [
                "nltk.download('twitter_samples')"
            ],
            "outputs": [
                {
                    "output_type": "stream",
                    "name": "stderr",
                    "text": [
                        "[nltk_data] Downloading package twitter_samples to\n",
                        "[nltk_data]     C:\\Users\\baont\\AppData\\Roaming\\nltk_data...\n",
                        "[nltk_data]   Unzipping corpora\\twitter_samples.zip.\n"
                    ]
                },
                {
                    "output_type": "execute_result",
                    "data": {
                        "text/plain": [
                            "True"
                        ]
                    },
                    "metadata": {},
                    "execution_count": 4
                }
            ],
            "metadata": {}
        },
        {
            "cell_type": "code",
            "execution_count": 6,
            "source": [
                "all_positive_tweets = twitter_samples.strings('positive_tweets.json')\r\n",
                "all_negative_tweets = twitter_samples.strings('negative_tweets.json')"
            ],
            "outputs": [],
            "metadata": {}
        },
        {
            "cell_type": "code",
            "execution_count": 7,
            "source": [
                "print('Number of positive tweets:', len(all_positive_tweets))\r\n",
                "print('Number of negative tweets:', len(all_negative_tweets))\r\n",
                "\r\n",
                "print('The type of all_positive_tweets is: ', type(all_positive_tweets))\r\n",
                "print('The type of a tweet entry is: ', type(all_negative_tweets[0]))"
            ],
            "outputs": [
                {
                    "output_type": "stream",
                    "name": "stdout",
                    "text": [
                        "Number of positive tweets: 5000\n",
                        "Number of negative tweets: 5000\n",
                        "The type of all_positive_tweets is:  <class 'list'>\n",
                        "The type of a tweet entry is:  <class 'str'>\n"
                    ]
                }
            ],
            "metadata": {}
        },
        {
            "cell_type": "code",
            "execution_count": 10,
            "source": [
                "#Declare a figure with a custom size\r\n",
                "fig = plt.figure(figsize=(5,5))\r\n",
                "\r\n",
                "#Labels for the two classes\r\n",
                "labels = 'Positives', 'Negatives'\r\n",
                "\r\n",
                "#Sizes for each slide\r\n",
                "sizes = [len(all_positive_tweets),len(all_negative_tweets)]\r\n",
                "\r\n",
                "#Decleare pie chart, where the slices will be orrderd and plotted counter-clockwise:\r\n",
                "plt.pie(sizes, labels=labels, autopct=\"%1.1f%%\", shadow=True, startangle=90)\r\n",
                "\r\n",
                "#Eqaul aspect ratio ensures that pie iss drawn as a circle\r\n",
                "\r\n",
                "plt.axis('equal')\r\n",
                "\r\n",
                "#Display the chare\r\n",
                "\r\n",
                "plt.show()"
            ],
            "outputs": [
                {
                    "output_type": "display_data",
                    "data": {
                        "text/plain": [
                            "<Figure size 360x360 with 1 Axes>"
                        ],
                        "image/svg+xml": "<?xml version=\"1.0\" encoding=\"utf-8\" standalone=\"no\"?>\r\n<!DOCTYPE svg PUBLIC \"-//W3C//DTD SVG 1.1//EN\"\r\n  \"http://www.w3.org/Graphics/SVG/1.1/DTD/svg11.dtd\">\r\n<svg height=\"286.2pt\" version=\"1.1\" viewBox=\"0 0 387.24375 286.2\" width=\"387.24375pt\" xmlns=\"http://www.w3.org/2000/svg\" xmlns:xlink=\"http://www.w3.org/1999/xlink\">\r\n <metadata>\r\n  <rdf:RDF xmlns:cc=\"http://creativecommons.org/ns#\" xmlns:dc=\"http://purl.org/dc/elements/1.1/\" xmlns:rdf=\"http://www.w3.org/1999/02/22-rdf-syntax-ns#\">\r\n   <cc:Work>\r\n    <dc:type rdf:resource=\"http://purl.org/dc/dcmitype/StillImage\"/>\r\n    <dc:date>2021-09-01T10:10:19.627425</dc:date>\r\n    <dc:format>image/svg+xml</dc:format>\r\n    <dc:creator>\r\n     <cc:Agent>\r\n      <dc:title>Matplotlib v3.4.2, https://matplotlib.org/</dc:title>\r\n     </cc:Agent>\r\n    </dc:creator>\r\n   </cc:Work>\r\n  </rdf:RDF>\r\n </metadata>\r\n <defs>\r\n  <style type=\"text/css\">*{stroke-linecap:butt;stroke-linejoin:round;}</style>\r\n </defs>\r\n <g id=\"figure_1\">\r\n  <g id=\"patch_1\">\r\n   <path d=\"M 0 286.2 \r\nL 387.24375 286.2 \r\nL 387.24375 0 \r\nL 0 0 \r\nz\r\n\" style=\"fill:none;\"/>\r\n  </g>\r\n  <g id=\"axes_1\">\r\n   <g id=\"patch_2\">\r\n    <path d=\"M 187.916761 18.818182 \r\nC 154.295388 18.818182 122.016666 32.188466 98.242765 55.962367 \r\nC 74.468864 79.736269 61.09858 112.01499 61.09858 145.636364 \r\nC 61.09858 179.257737 74.468864 211.536459 98.242765 235.31036 \r\nC 122.016666 259.084261 154.295388 272.454545 187.916761 272.454545 \r\nL 187.916761 145.636364 \r\nL 187.916761 18.818182 \r\nz\r\n\" style=\"fill:#092436;opacity:0.5;stroke:#092436;stroke-linejoin:miter;\"/>\r\n   </g>\r\n   <g id=\"patch_3\">\r\n    <path d=\"M 187.916761 272.454545 \r\nC 221.538135 272.454545 253.816856 259.084261 277.590758 235.31036 \r\nC 301.364659 211.536459 314.734943 179.257737 314.734943 145.636364 \r\nC 314.734943 112.01499 301.364659 79.736269 277.590758 55.962367 \r\nC 253.816856 32.188466 221.538135 18.818182 187.916761 18.818182 \r\nL 187.916761 145.636364 \r\nL 187.916761 272.454545 \r\nz\r\n\" style=\"fill:#4c2604;opacity:0.5;stroke:#4c2604;stroke-linejoin:miter;\"/>\r\n   </g>\r\n   <g id=\"patch_4\">\r\n    <path d=\"M 190.453125 16.281818 \r\nC 156.831751 16.281818 124.55303 29.652102 100.779129 53.426004 \r\nC 77.005227 77.199905 63.634943 109.478626 63.634943 143.1 \r\nC 63.634943 176.721374 77.005227 209.000095 100.779129 232.773996 \r\nC 124.55303 256.547898 156.831751 269.918182 190.453125 269.918182 \r\nL 190.453125 143.1 \r\nL 190.453125 16.281818 \r\nz\r\n\" style=\"fill:#1f77b4;\"/>\r\n   </g>\r\n   <g id=\"patch_5\">\r\n    <path d=\"M 190.453125 269.918182 \r\nC 224.074499 269.918182 256.35322 256.547898 280.127121 232.773996 \r\nC 303.901023 209.000095 317.271307 176.721374 317.271307 143.1 \r\nC 317.271307 109.478626 303.901023 77.199905 280.127121 53.426004 \r\nC 256.35322 29.652102 224.074499 16.281818 190.453125 16.281818 \r\nL 190.453125 143.1 \r\nL 190.453125 269.918182 \r\nz\r\n\" style=\"fill:#ff7f0e;\"/>\r\n   </g>\r\n   <g id=\"matplotlib.axis_1\"/>\r\n   <g id=\"matplotlib.axis_2\"/>\r\n   <g id=\"text_1\">\r\n    <!-- Positives -->\r\n    <g transform=\"translate(7.2 145.859375)scale(0.1 -0.1)\">\r\n     <defs>\r\n      <path d=\"M 1259 4147 \r\nL 1259 2394 \r\nL 2053 2394 \r\nQ 2494 2394 2734 2622 \r\nQ 2975 2850 2975 3272 \r\nQ 2975 3691 2734 3919 \r\nQ 2494 4147 2053 4147 \r\nL 1259 4147 \r\nz\r\nM 628 4666 \r\nL 2053 4666 \r\nQ 2838 4666 3239 4311 \r\nQ 3641 3956 3641 3272 \r\nQ 3641 2581 3239 2228 \r\nQ 2838 1875 2053 1875 \r\nL 1259 1875 \r\nL 1259 0 \r\nL 628 0 \r\nL 628 4666 \r\nz\r\n\" id=\"DejaVuSans-50\" transform=\"scale(0.015625)\"/>\r\n      <path d=\"M 1959 3097 \r\nQ 1497 3097 1228 2736 \r\nQ 959 2375 959 1747 \r\nQ 959 1119 1226 758 \r\nQ 1494 397 1959 397 \r\nQ 2419 397 2687 759 \r\nQ 2956 1122 2956 1747 \r\nQ 2956 2369 2687 2733 \r\nQ 2419 3097 1959 3097 \r\nz\r\nM 1959 3584 \r\nQ 2709 3584 3137 3096 \r\nQ 3566 2609 3566 1747 \r\nQ 3566 888 3137 398 \r\nQ 2709 -91 1959 -91 \r\nQ 1206 -91 779 398 \r\nQ 353 888 353 1747 \r\nQ 353 2609 779 3096 \r\nQ 1206 3584 1959 3584 \r\nz\r\n\" id=\"DejaVuSans-6f\" transform=\"scale(0.015625)\"/>\r\n      <path d=\"M 2834 3397 \r\nL 2834 2853 \r\nQ 2591 2978 2328 3040 \r\nQ 2066 3103 1784 3103 \r\nQ 1356 3103 1142 2972 \r\nQ 928 2841 928 2578 \r\nQ 928 2378 1081 2264 \r\nQ 1234 2150 1697 2047 \r\nL 1894 2003 \r\nQ 2506 1872 2764 1633 \r\nQ 3022 1394 3022 966 \r\nQ 3022 478 2636 193 \r\nQ 2250 -91 1575 -91 \r\nQ 1294 -91 989 -36 \r\nQ 684 19 347 128 \r\nL 347 722 \r\nQ 666 556 975 473 \r\nQ 1284 391 1588 391 \r\nQ 1994 391 2212 530 \r\nQ 2431 669 2431 922 \r\nQ 2431 1156 2273 1281 \r\nQ 2116 1406 1581 1522 \r\nL 1381 1569 \r\nQ 847 1681 609 1914 \r\nQ 372 2147 372 2553 \r\nQ 372 3047 722 3315 \r\nQ 1072 3584 1716 3584 \r\nQ 2034 3584 2315 3537 \r\nQ 2597 3491 2834 3397 \r\nz\r\n\" id=\"DejaVuSans-73\" transform=\"scale(0.015625)\"/>\r\n      <path d=\"M 603 3500 \r\nL 1178 3500 \r\nL 1178 0 \r\nL 603 0 \r\nL 603 3500 \r\nz\r\nM 603 4863 \r\nL 1178 4863 \r\nL 1178 4134 \r\nL 603 4134 \r\nL 603 4863 \r\nz\r\n\" id=\"DejaVuSans-69\" transform=\"scale(0.015625)\"/>\r\n      <path d=\"M 1172 4494 \r\nL 1172 3500 \r\nL 2356 3500 \r\nL 2356 3053 \r\nL 1172 3053 \r\nL 1172 1153 \r\nQ 1172 725 1289 603 \r\nQ 1406 481 1766 481 \r\nL 2356 481 \r\nL 2356 0 \r\nL 1766 0 \r\nQ 1100 0 847 248 \r\nQ 594 497 594 1153 \r\nL 594 3053 \r\nL 172 3053 \r\nL 172 3500 \r\nL 594 3500 \r\nL 594 4494 \r\nL 1172 4494 \r\nz\r\n\" id=\"DejaVuSans-74\" transform=\"scale(0.015625)\"/>\r\n      <path d=\"M 191 3500 \r\nL 800 3500 \r\nL 1894 563 \r\nL 2988 3500 \r\nL 3597 3500 \r\nL 2284 0 \r\nL 1503 0 \r\nL 191 3500 \r\nz\r\n\" id=\"DejaVuSans-76\" transform=\"scale(0.015625)\"/>\r\n      <path d=\"M 3597 1894 \r\nL 3597 1613 \r\nL 953 1613 \r\nQ 991 1019 1311 708 \r\nQ 1631 397 2203 397 \r\nQ 2534 397 2845 478 \r\nQ 3156 559 3463 722 \r\nL 3463 178 \r\nQ 3153 47 2828 -22 \r\nQ 2503 -91 2169 -91 \r\nQ 1331 -91 842 396 \r\nQ 353 884 353 1716 \r\nQ 353 2575 817 3079 \r\nQ 1281 3584 2069 3584 \r\nQ 2775 3584 3186 3129 \r\nQ 3597 2675 3597 1894 \r\nz\r\nM 3022 2063 \r\nQ 3016 2534 2758 2815 \r\nQ 2500 3097 2075 3097 \r\nQ 1594 3097 1305 2825 \r\nQ 1016 2553 972 2059 \r\nL 3022 2063 \r\nz\r\n\" id=\"DejaVuSans-65\" transform=\"scale(0.015625)\"/>\r\n     </defs>\r\n     <use xlink:href=\"#DejaVuSans-50\"/>\r\n     <use x=\"56.677734\" xlink:href=\"#DejaVuSans-6f\"/>\r\n     <use x=\"117.859375\" xlink:href=\"#DejaVuSans-73\"/>\r\n     <use x=\"169.958984\" xlink:href=\"#DejaVuSans-69\"/>\r\n     <use x=\"197.742188\" xlink:href=\"#DejaVuSans-74\"/>\r\n     <use x=\"236.951172\" xlink:href=\"#DejaVuSans-69\"/>\r\n     <use x=\"264.734375\" xlink:href=\"#DejaVuSans-76\"/>\r\n     <use x=\"323.914062\" xlink:href=\"#DejaVuSans-65\"/>\r\n     <use x=\"385.4375\" xlink:href=\"#DejaVuSans-73\"/>\r\n    </g>\r\n   </g>\r\n   <g id=\"text_2\">\r\n    <!-- 50.0% -->\r\n    <g transform=\"translate(98.478622 145.859375)scale(0.1 -0.1)\">\r\n     <defs>\r\n      <path d=\"M 691 4666 \r\nL 3169 4666 \r\nL 3169 4134 \r\nL 1269 4134 \r\nL 1269 2991 \r\nQ 1406 3038 1543 3061 \r\nQ 1681 3084 1819 3084 \r\nQ 2600 3084 3056 2656 \r\nQ 3513 2228 3513 1497 \r\nQ 3513 744 3044 326 \r\nQ 2575 -91 1722 -91 \r\nQ 1428 -91 1123 -41 \r\nQ 819 9 494 109 \r\nL 494 744 \r\nQ 775 591 1075 516 \r\nQ 1375 441 1709 441 \r\nQ 2250 441 2565 725 \r\nQ 2881 1009 2881 1497 \r\nQ 2881 1984 2565 2268 \r\nQ 2250 2553 1709 2553 \r\nQ 1456 2553 1204 2497 \r\nQ 953 2441 691 2322 \r\nL 691 4666 \r\nz\r\n\" id=\"DejaVuSans-35\" transform=\"scale(0.015625)\"/>\r\n      <path d=\"M 2034 4250 \r\nQ 1547 4250 1301 3770 \r\nQ 1056 3291 1056 2328 \r\nQ 1056 1369 1301 889 \r\nQ 1547 409 2034 409 \r\nQ 2525 409 2770 889 \r\nQ 3016 1369 3016 2328 \r\nQ 3016 3291 2770 3770 \r\nQ 2525 4250 2034 4250 \r\nz\r\nM 2034 4750 \r\nQ 2819 4750 3233 4129 \r\nQ 3647 3509 3647 2328 \r\nQ 3647 1150 3233 529 \r\nQ 2819 -91 2034 -91 \r\nQ 1250 -91 836 529 \r\nQ 422 1150 422 2328 \r\nQ 422 3509 836 4129 \r\nQ 1250 4750 2034 4750 \r\nz\r\n\" id=\"DejaVuSans-30\" transform=\"scale(0.015625)\"/>\r\n      <path d=\"M 684 794 \r\nL 1344 794 \r\nL 1344 0 \r\nL 684 0 \r\nL 684 794 \r\nz\r\n\" id=\"DejaVuSans-2e\" transform=\"scale(0.015625)\"/>\r\n      <path d=\"M 4653 2053 \r\nQ 4381 2053 4226 1822 \r\nQ 4072 1591 4072 1178 \r\nQ 4072 772 4226 539 \r\nQ 4381 306 4653 306 \r\nQ 4919 306 5073 539 \r\nQ 5228 772 5228 1178 \r\nQ 5228 1588 5073 1820 \r\nQ 4919 2053 4653 2053 \r\nz\r\nM 4653 2450 \r\nQ 5147 2450 5437 2106 \r\nQ 5728 1763 5728 1178 \r\nQ 5728 594 5436 251 \r\nQ 5144 -91 4653 -91 \r\nQ 4153 -91 3862 251 \r\nQ 3572 594 3572 1178 \r\nQ 3572 1766 3864 2108 \r\nQ 4156 2450 4653 2450 \r\nz\r\nM 1428 4353 \r\nQ 1159 4353 1004 4120 \r\nQ 850 3888 850 3481 \r\nQ 850 3069 1003 2837 \r\nQ 1156 2606 1428 2606 \r\nQ 1700 2606 1854 2837 \r\nQ 2009 3069 2009 3481 \r\nQ 2009 3884 1853 4118 \r\nQ 1697 4353 1428 4353 \r\nz\r\nM 4250 4750 \r\nL 4750 4750 \r\nL 1831 -91 \r\nL 1331 -91 \r\nL 4250 4750 \r\nz\r\nM 1428 4750 \r\nQ 1922 4750 2215 4408 \r\nQ 2509 4066 2509 3481 \r\nQ 2509 2891 2217 2550 \r\nQ 1925 2209 1428 2209 \r\nQ 931 2209 642 2551 \r\nQ 353 2894 353 3481 \r\nQ 353 4063 643 4406 \r\nQ 934 4750 1428 4750 \r\nz\r\n\" id=\"DejaVuSans-25\" transform=\"scale(0.015625)\"/>\r\n     </defs>\r\n     <use xlink:href=\"#DejaVuSans-35\"/>\r\n     <use x=\"63.623047\" xlink:href=\"#DejaVuSans-30\"/>\r\n     <use x=\"127.246094\" xlink:href=\"#DejaVuSans-2e\"/>\r\n     <use x=\"159.033203\" xlink:href=\"#DejaVuSans-30\"/>\r\n     <use x=\"222.65625\" xlink:href=\"#DejaVuSans-25\"/>\r\n    </g>\r\n   </g>\r\n   <g id=\"text_3\">\r\n    <!-- Negatives -->\r\n    <g transform=\"translate(329.953125 145.859375)scale(0.1 -0.1)\">\r\n     <defs>\r\n      <path d=\"M 628 4666 \r\nL 1478 4666 \r\nL 3547 763 \r\nL 3547 4666 \r\nL 4159 4666 \r\nL 4159 0 \r\nL 3309 0 \r\nL 1241 3903 \r\nL 1241 0 \r\nL 628 0 \r\nL 628 4666 \r\nz\r\n\" id=\"DejaVuSans-4e\" transform=\"scale(0.015625)\"/>\r\n      <path d=\"M 2906 1791 \r\nQ 2906 2416 2648 2759 \r\nQ 2391 3103 1925 3103 \r\nQ 1463 3103 1205 2759 \r\nQ 947 2416 947 1791 \r\nQ 947 1169 1205 825 \r\nQ 1463 481 1925 481 \r\nQ 2391 481 2648 825 \r\nQ 2906 1169 2906 1791 \r\nz\r\nM 3481 434 \r\nQ 3481 -459 3084 -895 \r\nQ 2688 -1331 1869 -1331 \r\nQ 1566 -1331 1297 -1286 \r\nQ 1028 -1241 775 -1147 \r\nL 775 -588 \r\nQ 1028 -725 1275 -790 \r\nQ 1522 -856 1778 -856 \r\nQ 2344 -856 2625 -561 \r\nQ 2906 -266 2906 331 \r\nL 2906 616 \r\nQ 2728 306 2450 153 \r\nQ 2172 0 1784 0 \r\nQ 1141 0 747 490 \r\nQ 353 981 353 1791 \r\nQ 353 2603 747 3093 \r\nQ 1141 3584 1784 3584 \r\nQ 2172 3584 2450 3431 \r\nQ 2728 3278 2906 2969 \r\nL 2906 3500 \r\nL 3481 3500 \r\nL 3481 434 \r\nz\r\n\" id=\"DejaVuSans-67\" transform=\"scale(0.015625)\"/>\r\n      <path d=\"M 2194 1759 \r\nQ 1497 1759 1228 1600 \r\nQ 959 1441 959 1056 \r\nQ 959 750 1161 570 \r\nQ 1363 391 1709 391 \r\nQ 2188 391 2477 730 \r\nQ 2766 1069 2766 1631 \r\nL 2766 1759 \r\nL 2194 1759 \r\nz\r\nM 3341 1997 \r\nL 3341 0 \r\nL 2766 0 \r\nL 2766 531 \r\nQ 2569 213 2275 61 \r\nQ 1981 -91 1556 -91 \r\nQ 1019 -91 701 211 \r\nQ 384 513 384 1019 \r\nQ 384 1609 779 1909 \r\nQ 1175 2209 1959 2209 \r\nL 2766 2209 \r\nL 2766 2266 \r\nQ 2766 2663 2505 2880 \r\nQ 2244 3097 1772 3097 \r\nQ 1472 3097 1187 3025 \r\nQ 903 2953 641 2809 \r\nL 641 3341 \r\nQ 956 3463 1253 3523 \r\nQ 1550 3584 1831 3584 \r\nQ 2591 3584 2966 3190 \r\nQ 3341 2797 3341 1997 \r\nz\r\n\" id=\"DejaVuSans-61\" transform=\"scale(0.015625)\"/>\r\n     </defs>\r\n     <use xlink:href=\"#DejaVuSans-4e\"/>\r\n     <use x=\"74.804688\" xlink:href=\"#DejaVuSans-65\"/>\r\n     <use x=\"136.328125\" xlink:href=\"#DejaVuSans-67\"/>\r\n     <use x=\"199.804688\" xlink:href=\"#DejaVuSans-61\"/>\r\n     <use x=\"261.083984\" xlink:href=\"#DejaVuSans-74\"/>\r\n     <use x=\"300.292969\" xlink:href=\"#DejaVuSans-69\"/>\r\n     <use x=\"328.076172\" xlink:href=\"#DejaVuSans-76\"/>\r\n     <use x=\"387.255859\" xlink:href=\"#DejaVuSans-65\"/>\r\n     <use x=\"448.779297\" xlink:href=\"#DejaVuSans-73\"/>\r\n    </g>\r\n   </g>\r\n   <g id=\"text_4\">\r\n    <!-- 50.0% -->\r\n    <g transform=\"translate(250.66044 145.859375)scale(0.1 -0.1)\">\r\n     <use xlink:href=\"#DejaVuSans-35\"/>\r\n     <use x=\"63.623047\" xlink:href=\"#DejaVuSans-30\"/>\r\n     <use x=\"127.246094\" xlink:href=\"#DejaVuSans-2e\"/>\r\n     <use x=\"159.033203\" xlink:href=\"#DejaVuSans-30\"/>\r\n     <use x=\"222.65625\" xlink:href=\"#DejaVuSans-25\"/>\r\n    </g>\r\n   </g>\r\n  </g>\r\n </g>\r\n</svg>\r\n",
                        "image/png": "[encoded data removed]"
                    },
                    "metadata": {}
                }
            ],
            "metadata": {}
        },
        {
            "cell_type": "markdown",
            "source": [
                "# Raw text"
            ],
            "metadata": {}
        },
        {
            "cell_type": "code",
            "execution_count": 11,
            "source": [
                "# print positive in greeen\r\n",
                "print('\\033[92m' + all_positive_tweets[random.randint(0,5000)])\r\n",
                "\r\n",
                "# print negative in red\r\n",
                "print('\\033[91m' + all_negative_tweets[random.randint(0,5000)])"
            ],
            "outputs": [
                {
                    "output_type": "stream",
                    "name": "stdout",
                    "text": [
                        "\u001b[92mGood morning all! Have a fab Friday! :)\n",
                        "\u001b[91m@nba2kmobile @MyNBA2KRT @mynba2k15credit I would but have only 1.300 credits :(\n"
                    ]
                }
            ],
            "metadata": {}
        },
        {
            "cell_type": "markdown",
            "source": [
                "# Preprocess Raw Text For Sentiment Analysis\r\n",
                "\r\n",
                "For NLP, the preprocessing steps are comprised off the following tasks:\r\n",
                "\r\n",
                "- Tokenizing the string\r\n",
                "- Lowercasing\r\n",
                "- Removing stop words and punctuation\r\n",
                "- Stemming\r\n",
                "\r\n"
            ],
            "metadata": {}
        },
        {
            "cell_type": "code",
            "execution_count": 14,
            "source": [
                "tweet = all_positive_tweets[2108]\r\n",
                "print(tweet)"
            ],
            "outputs": [
                {
                    "output_type": "stream",
                    "name": "stdout",
                    "text": [
                        "@Bluegirl200345 We're always here if you want to talk :)\n",
                        "~😊\n"
                    ]
                }
            ],
            "metadata": {}
        },
        {
            "cell_type": "code",
            "execution_count": 15,
            "source": [
                "# download the stopwords from NLTK\r\n",
                "nltk.download('stopwords')"
            ],
            "outputs": [
                {
                    "output_type": "stream",
                    "name": "stderr",
                    "text": [
                        "[nltk_data] Downloading package stopwords to\n",
                        "[nltk_data]     C:\\Users\\baont\\AppData\\Roaming\\nltk_data...\n",
                        "[nltk_data]   Unzipping corpora\\stopwords.zip.\n"
                    ]
                },
                {
                    "output_type": "execute_result",
                    "data": {
                        "text/plain": [
                            "True"
                        ]
                    },
                    "metadata": {},
                    "execution_count": 15
                }
            ],
            "metadata": {}
        },
        {
            "cell_type": "code",
            "execution_count": 16,
            "source": [
                "import re                                  # library for regular expression operations\r\n",
                "import string                              # for string operations\r\n",
                "\r\n",
                "from nltk.corpus import stopwords          # module for stop words that come with NLTK\r\n",
                "from nltk.stem import PorterStemmer        # module for stemming\r\n",
                "from nltk.tokenize import TweetTokenizer   # module for tokenizing strings"
            ],
            "outputs": [],
            "metadata": {}
        },
        {
            "cell_type": "markdown",
            "source": [
                "## Remove Hyperlinks, Twitter marks and styles\r\n",
                "\r\n",
                "Using regex"
            ],
            "metadata": {}
        },
        {
            "cell_type": "code",
            "execution_count": 19,
            "source": [
                "print('\\033[92m' + tweet)\r\n",
                "print('\\033[94m')\r\n",
                "\r\n",
                "# remove old style retweet text \"RT\"\r\n",
                "tweet2 = re.sub(r'^RT[\\s]+', '', tweet)\r\n",
                "\r\n",
                "# remove hyperlinks\r\n",
                "tweet2 = re.sub(r'https?:\\/\\/.*[\\r\\n]*', '', tweet2)\r\n",
                "\r\n",
                "# remove hashtags\r\n",
                "# only removing the hash # sign from the word\r\n",
                "tweet2 = re.sub(r'#', '', tweet2)\r\n",
                "\r\n",
                "print(tweet2)"
            ],
            "outputs": [
                {
                    "output_type": "stream",
                    "name": "stdout",
                    "text": [
                        "\u001b[92m@Bluegirl200345 We're always here if you want to talk :)\n",
                        "~😊\n",
                        "\u001b[94m\n",
                        "@Bluegirl200345 We're always here if you want to talk :)\n",
                        "~😊\n"
                    ]
                }
            ],
            "metadata": {}
        },
        {
            "cell_type": "markdown",
            "source": [
                "## Tokenize the string\r\n"
            ],
            "metadata": {}
        },
        {
            "cell_type": "code",
            "execution_count": 21,
            "source": [
                "print('\\033[92m' + tweet2)\r\n",
                "print('\\033[94m')\r\n",
                "\r\n",
                "tokenized = TweetTokenizer(preserve_case=False, strip_handles=True, reduce_len=True)\r\n",
                "\r\n",
                "tweet_tokens = tokenized.tokenize(tweet2)\r\n",
                "\r\n",
                "print(tweet_tokens)"
            ],
            "outputs": [
                {
                    "output_type": "stream",
                    "name": "stdout",
                    "text": [
                        "\u001b[92m@Bluegirl200345 We're always here if you want to talk :)\n",
                        "~😊\n",
                        "\u001b[94m\n",
                        "[\"we're\", 'always', 'here', 'if', 'you', 'want', 'to', 'talk', ':)', '~', '😊']\n"
                    ]
                }
            ],
            "metadata": {}
        },
        {
            "cell_type": "markdown",
            "source": [
                "## Remove Stop word and punctuations"
            ],
            "metadata": {}
        },
        {
            "cell_type": "code",
            "execution_count": 25,
            "source": [
                "#Import the english stop words list from NLTK\r\n",
                "stopwords_english = stopwords.words('english') \r\n",
                "\r\n",
                "stopwords_english.append(\"we're\")\r\n",
                "print('Stop words\\n')\r\n",
                "print(stopwords_english)\r\n",
                "\r\n",
                "print('\\nPunctuation\\n')\r\n",
                "print(string.punctuation)"
            ],
            "outputs": [
                {
                    "output_type": "stream",
                    "name": "stdout",
                    "text": [
                        "Stop words\n",
                        "\n",
                        "['i', 'me', 'my', 'myself', 'we', 'our', 'ours', 'ourselves', 'you', \"you're\", \"you've\", \"you'll\", \"you'd\", 'your', 'yours', 'yourself', 'yourselves', 'he', 'him', 'his', 'himself', 'she', \"she's\", 'her', 'hers', 'herself', 'it', \"it's\", 'its', 'itself', 'they', 'them', 'their', 'theirs', 'themselves', 'what', 'which', 'who', 'whom', 'this', 'that', \"that'll\", 'these', 'those', 'am', 'is', 'are', 'was', 'were', 'be', 'been', 'being', 'have', 'has', 'had', 'having', 'do', 'does', 'did', 'doing', 'a', 'an', 'the', 'and', 'but', 'if', 'or', 'because', 'as', 'until', 'while', 'of', 'at', 'by', 'for', 'with', 'about', 'against', 'between', 'into', 'through', 'during', 'before', 'after', 'above', 'below', 'to', 'from', 'up', 'down', 'in', 'out', 'on', 'off', 'over', 'under', 'again', 'further', 'then', 'once', 'here', 'there', 'when', 'where', 'why', 'how', 'all', 'any', 'both', 'each', 'few', 'more', 'most', 'other', 'some', 'such', 'no', 'nor', 'not', 'only', 'own', 'same', 'so', 'than', 'too', 'very', 's', 't', 'can', 'will', 'just', 'don', \"don't\", 'should', \"should've\", 'now', 'd', 'll', 'm', 'o', 're', 've', 'y', 'ain', 'aren', \"aren't\", 'couldn', \"couldn't\", 'didn', \"didn't\", 'doesn', \"doesn't\", 'hadn', \"hadn't\", 'hasn', \"hasn't\", 'haven', \"haven't\", 'isn', \"isn't\", 'ma', 'mightn', \"mightn't\", 'mustn', \"mustn't\", 'needn', \"needn't\", 'shan', \"shan't\", 'shouldn', \"shouldn't\", 'wasn', \"wasn't\", 'weren', \"weren't\", 'won', \"won't\", 'wouldn', \"wouldn't\", \"we're\"]\n",
                        "\n",
                        "Punctuation\n",
                        "\n",
                        "!\"#$%&'()*+,-./:;<=>?@[\\]^_`{|}~\n"
                    ]
                }
            ],
            "metadata": {}
        },
        {
            "cell_type": "code",
            "execution_count": 26,
            "source": [
                "print()\r\n",
                "print('\\033[92m')\r\n",
                "print(tweet_tokens)\r\n",
                "print('\\033[94m')\r\n",
                "\r\n",
                "tweets_clean = []\r\n",
                "for word in tweet_tokens:\r\n",
                "    if (word not in stopwords_english and word not in string.punctuation):\r\n",
                "        tweets_clean.append(word)\r\n",
                "\r\n",
                "print(tweets_clean)"
            ],
            "outputs": [
                {
                    "output_type": "stream",
                    "name": "stdout",
                    "text": [
                        "\n",
                        "\u001b[92m\n",
                        "[\"we're\", 'always', 'here', 'if', 'you', 'want', 'to', 'talk', ':)', '~', '😊']\n",
                        "\u001b[94m\n",
                        "['always', 'want', 'talk', ':)', '😊']\n"
                    ]
                }
            ],
            "metadata": {}
        },
        {
            "cell_type": "markdown",
            "source": [
                "## Stemming"
            ],
            "metadata": {}
        },
        {
            "cell_type": "code",
            "execution_count": 27,
            "source": [
                "print()\r\n",
                "print('\\033[92m')\r\n",
                "print(tweets_clean)\r\n",
                "print('\\033[94m')\r\n",
                "\r\n",
                "# Instantiate stemming class\r\n",
                "stemmer = PorterStemmer()\r\n",
                "\r\n",
                "# Create an empty list to store the stems\r\n",
                "tweets_stem = []\r\n",
                "\r\n",
                "for word in tweets_clean:\r\n",
                "    stem_word = stemmer.stem(word)  # stemming word\r\n",
                "    tweets_stem.append(stem_word)  # append to the list\r\n",
                "\r\n",
                "print('stemmed words:')\r\n",
                "print(tweets_stem)\r\n"
            ],
            "outputs": [
                {
                    "output_type": "stream",
                    "name": "stdout",
                    "text": [
                        "\n",
                        "\u001b[92m\n",
                        "['always', 'want', 'talk', ':)', '😊']\n",
                        "\u001b[94m\n",
                        "stemmed words:\n",
                        "['alway', 'want', 'talk', ':)', '😊']\n"
                    ]
                }
            ],
            "metadata": {}
        }
    ],
    "metadata": {
        "orig_nbformat": 4,
        "language_info": {
            "name": "python",
            "version": "3.7.11",
            "mimetype": "text/x-python",
            "codemirror_mode": {
                "name": "ipython",
                "version": 3
            },
            "pygments_lexer": "ipython3",
            "nbconvert_exporter": "python",
            "file_extension": ".py"
        },
        "kernelspec": {
            "name": "python3",
            "display_name": "Python 3.7.11 64-bit (conda)"
        },
        "interpreter": {
            "hash": "7fcd147c305c1874f95f457db23d4373ae43bb57e712b0d402b4f39460fb2616"
        }
    },
    "nbformat": 4,
    "nbformat_minor": 2
}